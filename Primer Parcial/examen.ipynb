{
 "cells": [
  {
   "cell_type": "code",
   "execution_count": 2,
   "metadata": {},
   "outputs": [
    {
     "name": "stdout",
     "output_type": "stream",
     "text": [
      "Hice el 3 aquí, para el 1 no utilicé código ya que lo hcie con el método gráfico y a mano.\n"
     ]
    }
   ],
   "source": [
    "print(\"Hice el 3 aquí, para el 1 no utilicé código ya que lo hcie con el método gráfico y a mano.\")"
   ]
  },
  {
   "cell_type": "markdown",
   "metadata": {},
   "source": [
    "$x_1 + x_2 + x_3 = 1$\n",
    "<br>\n",
    "$25x_1 + 15x_2 + 25x_3 + x_5 = 22$\n",
    "<br>\n",
    "$15x_1 + 30x_2 + 20x_3 - x_6 = 20$\n",
    "<br>\n",
    "$5x_1 + 12x_2 + 8x_3 - x_7 = 6$\n",
    "<br>\n",
    "$5x_1 + 12x_2 + 8x_3 + x_8 = 12$\n",
    "<br>\n",
    "$x_j = 0 $\n",
    "<br>"
   ]
  },
  {
   "cell_type": "markdown",
   "metadata": {},
   "source": [
    "\\begin{equation}\n",
    "\\begin{bmatrix}\n",
    "1 & 0 & 0 & 0 & 0 & 0\\\\\n",
    "25 & -1 & 0 & 0 & 0 & 0\\\\\n",
    "-25 & 0 & 0 & 0 & 0 & 0\\\\\n",
    "20 & 0 & 0 & -1 & 0 & 0\\\\\n",
    "8 & 0 & 0 & 0 & -1 & 0 \\\\\n",
    "-8 & 0 & 0 & 0 & 0 & 1\n",
    "\\end{bmatrix}\n",
    "\\end{equation}"
   ]
  },
  {
   "cell_type": "markdown",
   "metadata": {},
   "source": [
    "$x_B$ = \n",
    "\\begin{equation}\n",
    "\\begin{bmatrix}\n",
    "x_3 \\\\\n",
    "x_4 \\\\\n",
    "x_5 \\\\\n",
    "x_6 \\\\\n",
    "x_7 \\\\\n",
    "x_8\n",
    "\\end{bmatrix}\n",
    "\\end{equation}"
   ]
  },
  {
   "cell_type": "markdown",
   "metadata": {},
   "source": [
    "$x_3$ = 1- $x_1$ - $x_2$\n",
    "<br>\n",
    "$x_4$ = 7 - 10 $x_2$\n",
    "z = 0.116 + 0.3 $x_3$ + 0.012 $x_4$"
   ]
  },
  {
   "cell_type": "markdown",
   "metadata": {},
   "source": [
    "$x_B$ = \n",
    "\\begin{equation}\n",
    "\\begin{bmatrix}\n",
    "x_1 = 0.3 \\\\\n",
    "x_2 = 0.7 \\\\\n",
    "x_3 = 0 \\\\\n",
    "x_4 = 0\\\\\n",
    "x_5 = 4\\\\\n",
    "x_6 = 5.5\\\\\n",
    "x_7 = 3.9\\\\\n",
    "x_8 = 2.1\n",
    "\\end{bmatrix}\n",
    "\\end{equation}"
   ]
  }
 ],
 "metadata": {
  "kernelspec": {
   "display_name": "Python 3.10.6 64-bit",
   "language": "python",
   "name": "python3"
  },
  "language_info": {
   "codemirror_mode": {
    "name": "ipython",
    "version": 3
   },
   "file_extension": ".py",
   "mimetype": "text/x-python",
   "name": "python",
   "nbconvert_exporter": "python",
   "pygments_lexer": "ipython3",
   "version": "3.10.6"
  },
  "orig_nbformat": 4,
  "vscode": {
   "interpreter": {
    "hash": "c63d8c7d738c2960218a10995aedf0a7f67a49a231e71037adf0440953cdb45b"
   }
  }
 },
 "nbformat": 4,
 "nbformat_minor": 2
}
