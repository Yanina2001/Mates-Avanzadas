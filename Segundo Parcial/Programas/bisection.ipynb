{
 "cells": [
  {
   "cell_type": "code",
   "execution_count": 1,
   "id": "8bdb01a6",
   "metadata": {},
   "outputs": [],
   "source": [
    "def bisection(a0,b0):\n",
    "    epsilon = 0.0001\n",
    "    eta = 0.00001\n",
    "    ak = a0\n",
    "    bk = b0\n",
    "    midPoint = 0\n",
    "    while True:\n",
    "        if bk -ak < epsilon:\n",
    "            xstar = (bk + ak) / 2\n",
    "            fstar = calFx(xstar)\n",
    "            return xstar, fstar\n",
    "        else:\n",
    "            midPoint = (ak + bk) / 2\n",
    "            lambdaK = midPoint - eta\n",
    "            muK = midPoint + eta\n",
    "            fLambdaK = calFx(lambdaK)\n",
    "            fMuK = calFx(muK)\n",
    "            if fLambdaK > fMuK:\n",
    "                ak = lambdaK\n",
    "                continue\n",
    "            else:\n",
    "                bk = muK\n",
    "                continue"
   ]
  },
  {
   "cell_type": "code",
   "execution_count": 4,
   "id": "9d00d181",
   "metadata": {},
   "outputs": [
    {
     "ename": "NameError",
     "evalue": "name 'calFx' is not defined",
     "output_type": "error",
     "traceback": [
      "\u001b[1;31m---------------------------------------------------------------------------\u001b[0m",
      "\u001b[1;31mNameError\u001b[0m                                 Traceback (most recent call last)",
      "Input \u001b[1;32mIn [4]\u001b[0m, in \u001b[0;36m<cell line: 4>\u001b[1;34m()\u001b[0m\n\u001b[0;32m      1\u001b[0m a0\u001b[38;5;241m=\u001b[39m\u001b[38;5;241m-\u001b[39m\u001b[38;5;241m3\u001b[39m\n\u001b[0;32m      2\u001b[0m b0\u001b[38;5;241m=\u001b[39m\u001b[38;5;241m5\u001b[39m\n\u001b[1;32m----> 4\u001b[0m \u001b[38;5;28mprint\u001b[39m(\u001b[43mbisection\u001b[49m\u001b[43m(\u001b[49m\u001b[43ma0\u001b[49m\u001b[43m,\u001b[49m\u001b[43mb0\u001b[49m\u001b[43m)\u001b[49m)\n",
      "Input \u001b[1;32mIn [1]\u001b[0m, in \u001b[0;36mbisection\u001b[1;34m(a0, b0)\u001b[0m\n\u001b[0;32m     14\u001b[0m lambdaK \u001b[38;5;241m=\u001b[39m midPoint \u001b[38;5;241m-\u001b[39m eta\n\u001b[0;32m     15\u001b[0m muK \u001b[38;5;241m=\u001b[39m midPoint \u001b[38;5;241m+\u001b[39m eta\n\u001b[1;32m---> 16\u001b[0m fLambdaK \u001b[38;5;241m=\u001b[39m \u001b[43mcalFx\u001b[49m(lambdaK)\n\u001b[0;32m     17\u001b[0m fMuK \u001b[38;5;241m=\u001b[39m calFx(muK)\n\u001b[0;32m     18\u001b[0m \u001b[38;5;28;01mif\u001b[39;00m fLambdaK \u001b[38;5;241m>\u001b[39m fMuK:\n",
      "\u001b[1;31mNameError\u001b[0m: name 'calFx' is not defined"
     ]
    }
   ],
   "source": [
    "a0=-3\n",
    "b0=5\n",
    "\n",
    "print(bisection(a0,b0))"
   ]
  },
  {
   "cell_type": "code",
   "execution_count": null,
   "id": "6fea419b",
   "metadata": {},
   "outputs": [],
   "source": []
  }
 ],
 "metadata": {
  "kernelspec": {
   "display_name": "Python 3 (ipykernel)",
   "language": "python",
   "name": "python3"
  },
  "language_info": {
   "codemirror_mode": {
    "name": "ipython",
    "version": 3
   },
   "file_extension": ".py",
   "mimetype": "text/x-python",
   "name": "python",
   "nbconvert_exporter": "python",
   "pygments_lexer": "ipython3",
   "version": "3.9.12"
  }
 },
 "nbformat": 4,
 "nbformat_minor": 5
}
